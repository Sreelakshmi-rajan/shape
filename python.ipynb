{
  "nbformat": 4,
  "nbformat_minor": 0,
  "metadata": {
    "colab": {
      "name": "Untitled0.ipynb",
      "provenance": [],
      "toc_visible": true,
      "authorship_tag": "ABX9TyP29qkt6Ojvindh+Hlv6xkn",
      "include_colab_link": true
    },
    "kernelspec": {
      "name": "python3",
      "display_name": "Python 3"
    },
    "language_info": {
      "name": "python"
    }
  },
  "cells": [
    {
      "cell_type": "markdown",
      "metadata": {
        "id": "view-in-github",
        "colab_type": "text"
      },
      "source": [
        "<a href=\"https://colab.research.google.com/github/Sreelakshmi-rajan/shape/blob/main/python.ipynb\" target=\"_parent\"><img src=\"https://colab.research.google.com/assets/colab-badge.svg\" alt=\"Open In Colab\"/></a>"
      ]
    },
    {
      "cell_type": "code",
      "metadata": {
        "colab": {
          "base_uri": "https://localhost:8080/"
        },
        "id": "P35Nb5kLRMWm",
        "outputId": "9848fc7b-eed0-4e0a-aa2b-4428f41ddd08"
      },
      "source": [
        "import requests\n",
        "import os\n",
        "from datetime import datetime\n",
        "\n",
        "api_key = 'b3c2270c4cd7e7cb9f6320bd81f4d12f'\n",
        "location = input(\"Enter the city name: \")\n",
        "\n",
        "complete_api_link = \"https://api.openweathermap.org/data/2.5/weather?q=\"+location+\"&appid=\"+api_key\n",
        "api_link = requests.get(complete_api_link)\n",
        "api_data = api_link.json()\n",
        "\n",
        "\n",
        "temp_city = ((api_data['main']['temp']) - 273.15)\n",
        "weather_desc = api_data['weather'][0]['description']\n",
        "hmdt = api_data['main']['humidity']\n",
        "wind_spd = api_data['wind']['speed']\n",
        "date_time = datetime.now().strftime(\"%d %b %Y | %I:%M:%S %p\")\n",
        "\n",
        "print (\"________________________________________________________________\")\n",
        "print (\"Weather Stats for - {}  || {}\".format(location.upper(), date_time))\n",
        "print (\"________________________________________________________________\")\n",
        "\n",
        "\n",
        "print (\"# Current temperature is: {:.2f} deg C\".format(temp_city))\n",
        "print (\"# Current weather desc  :\", weather_desc)\n",
        "print (\"# Current Humidity      :\", hmdt, '%')\n",
        "print (\"# Current wind speed    :\", wind_spd ,'kmph')\n",
        "with open('save climate.txt', 'w') as f:f.write(\"city: \"+location+\"\\n\"+\"Temperature :\"+str(temp_city)+\"\\nWeather Description :\"+weather_desc+\"\\nHumidity :\"+str(hmdt)+\" %\"+\"\\nWind speed :\"+str(wind_spd)+str(wind_spd)+\" kmph\")"
      ],
      "execution_count": 1,
      "outputs": [
        {
          "output_type": "stream",
          "text": [
            "Enter the city name: kottayam\n",
            "________________________________________________________________\n",
            "Weather Stats for - KOTTAYAM  || 23 Jun 2021 | 12:31:01 PM\n",
            "________________________________________________________________\n",
            "# Current temperature is: 29.01 deg C\n",
            "# Current weather desc  : overcast clouds\n",
            "# Current Humidity      : 87 %\n",
            "# Current wind speed    : 2.26 kmph\n"
          ],
          "name": "stdout"
        }
      ]
    },
    {
      "cell_type": "markdown",
      "metadata": {
        "id": "6CVymfivRuFh"
      },
      "source": [
        "# New section"
      ]
    }
  ]
}